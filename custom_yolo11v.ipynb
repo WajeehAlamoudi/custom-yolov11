{
 "cells": [
  {
   "metadata": {},
   "cell_type": "markdown",
   "source": "# importing packages",
   "id": "58c8f20cf70fc536"
  },
  {
   "metadata": {},
   "cell_type": "code",
   "outputs": [],
   "execution_count": null,
   "source": [
    "import os\n",
    "from ultralytics import YOLO"
   ],
   "id": "63e9ed1dd72fbe83"
  },
  {
   "metadata": {},
   "cell_type": "markdown",
   "source": "# loading the model",
   "id": "c9233b98934b331e"
  },
  {
   "metadata": {},
   "cell_type": "code",
   "outputs": [],
   "execution_count": null,
   "source": [
    "# Load a model\n",
    "model = YOLO(\"yolo11n.pt\")"
   ],
   "id": "256b88e2c6223073"
  },
  {
   "metadata": {},
   "cell_type": "code",
   "outputs": [],
   "execution_count": null,
   "source": [
    "# Train the model\n",
    "train_results = model.train(\n",
    "    data=\"data.yaml\",  # path to dataset YAML\n",
    "    epochs=50,  # number of training epochs\n",
    "    imgsz=640,  # training image size\n",
    "    device=\"cpu\"\n",
    ")"
   ],
   "id": "e2af95ee9f0f7958"
  },
  {
   "metadata": {},
   "cell_type": "markdown",
   "source": "# Evaluate model performance on the validation set",
   "id": "4c94643c01dbb7c0"
  },
  {
   "metadata": {},
   "cell_type": "code",
   "outputs": [],
   "execution_count": null,
   "source": [
    "metrics = model.val()\n",
    "# Perform object detection on each image in the test directory\n",
    "image_path = 'path/to/image.jpg'\n",
    "results = model(image_path)\n",
    "results[0].show()"
   ],
   "id": "4cdece6e6f6fa8e3"
  }
 ],
 "metadata": {
  "kernelspec": {
   "display_name": "Python 3",
   "language": "python",
   "name": "python3"
  },
  "language_info": {
   "codemirror_mode": {
    "name": "ipython",
    "version": 2
   },
   "file_extension": ".py",
   "mimetype": "text/x-python",
   "name": "python",
   "nbconvert_exporter": "python",
   "pygments_lexer": "ipython2",
   "version": "2.7.6"
  }
 },
 "nbformat": 4,
 "nbformat_minor": 5
}
